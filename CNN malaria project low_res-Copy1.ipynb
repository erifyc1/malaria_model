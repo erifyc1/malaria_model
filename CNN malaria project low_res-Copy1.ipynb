{
 "cells": [
  {
   "cell_type": "code",
   "execution_count": 1,
   "metadata": {},
   "outputs": [],
   "source": [
    "import tensorflow as tf\n",
    "from keras.layers import Conv2D, MaxPooling2D, Activation, Dropout, Flatten, Dense, Input, GlobalAveragePooling2D\n",
    "from keras.applications.inception_v3 import InceptionV3\n",
    "from keras.preprocessing.image import ImageDataGenerator\n",
    "from keras.models import Model, Sequential\n",
    "from keras.optimizers import RMSprop, Adam\n",
    "from keras import backend as K"
   ]
  },
  {
   "cell_type": "code",
   "execution_count": 2,
   "metadata": {},
   "outputs": [
    {
     "name": "stdout",
     "output_type": "stream",
     "text": [
      "Found 24804 images belonging to 2 classes.\n",
      "Found 2754 images belonging to 2 classes.\n"
     ]
    }
   ],
   "source": [
    "height = 299\n",
    "width = 299\n",
    "batch_size = 10\n",
    "\n",
    "train_datagen = ImageDataGenerator(rescale=1./255,\n",
    "    shear_range=0.2,\n",
    "    zoom_range=0.2,\n",
    "    horizontal_flip=False,\n",
    "    validation_split=0.1)\n",
    "\n",
    "train_generator = train_datagen.flow_from_directory(\n",
    "    'D:\\.Downloads\\low_res\\data',#'/content/drive/My Drive/malariaNN/high_res/data',\n",
    "    target_size=(height, width),\n",
    "    batch_size=batch_size,\n",
    "    class_mode='binary',\n",
    "    subset='training')\n",
    "validation_generator = train_datagen.flow_from_directory(\n",
    "    'D:\\.Downloads\\low_res\\data',#'/content/drive/My Drive/malariaNN/high_res/data',\n",
    "    target_size=(height, width),\n",
    "    batch_size=batch_size,\n",
    "    class_mode='binary',\n",
    "    subset='validation')\n",
    "\n",
    "epochs = 25\n",
    "steps = 24804\n",
    "val_steps = 2754"
   ]
  },
  {
   "cell_type": "code",
   "execution_count": 3,
   "metadata": {},
   "outputs": [],
   "source": [
    "#inception model\n",
    "input_shape = None\n",
    "\n",
    "if K.image_data_format() == 'channels_first':\n",
    "    input_shape = (3, width, height)\n",
    "else:\n",
    "    input_shape = (width, height, 3)\n",
    "\n",
    "base_model = InceptionV3(include_top=False, weights='imagenet', input_tensor=Input(shape=input_shape))\n",
    "\n",
    "out = base_model.output\n",
    "out = GlobalAveragePooling2D()(out)\n",
    "out = Dense(256, activation='relu')(out)\n",
    "predictions = Dense(1, activation='sigmoid')(out)\n",
    "\n",
    "model = Model(inputs=base_model.input, outputs=predictions)\n",
    "\n",
    "LR = 0.0001\n",
    "RMS = Adam(lr=LR)\n",
    "model.compile(optimizer=RMS, loss='binary_crossentropy', metrics=['accuracy'])"
   ]
  },
  {
   "cell_type": "code",
   "execution_count": 8,
   "metadata": {},
   "outputs": [],
   "source": [
    "# own model\n",
    "input_shape = None\n",
    "\n",
    "if K.image_data_format() == 'channels_first':\n",
    "    input_shape = (3, width, height)\n",
    "else:\n",
    "    input_shape = (width, height, 3)\n",
    "\n",
    "\n",
    "model = Sequential()\n",
    "model.add(Conv2D(32, (3, 3), input_shape=input_shape))\n",
    "model.add(Activation('relu'))\n",
    "model.add(MaxPooling2D(pool_size=(2, 2)))\n",
    "\n",
    "model.add(Conv2D(32, (3, 3)))\n",
    "model.add(Activation('relu'))\n",
    "model.add(MaxPooling2D(pool_size=(2, 2)))\n",
    "\n",
    "model.add(Conv2D(64, (3, 3)))\n",
    "model.add(Activation('relu'))\n",
    "model.add(MaxPooling2D(pool_size=(2, 2)))\n",
    "model.add(Flatten())  # this converts our 3D feature maps to 1D feature vectors\n",
    "model.add(Dense(64))\n",
    "model.add(Activation('relu'))\n",
    "model.add(Dropout(0.5))\n",
    "model.add(Dense(1))\n",
    "model.add(Activation('sigmoid'))\n",
    "\n",
    "model.compile(loss='binary_crossentropy',\n",
    "              optimizer='rmsprop',\n",
    "              metrics=['accuracy'])"
   ]
  },
  {
   "cell_type": "code",
   "execution_count": 4,
   "metadata": {},
   "outputs": [
    {
     "name": "stdout",
     "output_type": "stream",
     "text": [
      "Epoch 1/25\n",
      "2480/2480 [==============================] - 468s 189ms/step - loss: 0.1318 - accuracy: 0.9574 - val_loss: 0.2572 - val_accuracy: 0.9135\n",
      "Epoch 2/25\n",
      "2480/2480 [==============================] - 450s 181ms/step - loss: 0.1073 - accuracy: 0.9652 - val_loss: 0.1725 - val_accuracy: 0.9400\n",
      "Epoch 3/25\n",
      "2480/2480 [==============================] - 450s 181ms/step - loss: 0.0963 - accuracy: 0.9675 - val_loss: 0.2117 - val_accuracy: 0.9349\n",
      "Epoch 4/25\n",
      "2480/2480 [==============================] - 450s 181ms/step - loss: 0.0918 - accuracy: 0.9700 - val_loss: 0.2768 - val_accuracy: 0.8964\n",
      "Epoch 5/25\n",
      "2480/2480 [==============================] - 449s 181ms/step - loss: 0.0839 - accuracy: 0.9713 - val_loss: 0.2348 - val_accuracy: 0.9196\n",
      "Epoch 6/25\n",
      "2480/2480 [==============================] - 449s 181ms/step - loss: 0.0769 - accuracy: 0.9746 - val_loss: 0.2034 - val_accuracy: 0.9345\n",
      "Epoch 7/25\n",
      "2480/2480 [==============================] - 449s 181ms/step - loss: 0.0712 - accuracy: 0.9766 - val_loss: 0.1885 - val_accuracy: 0.9375\n",
      "Epoch 8/25\n",
      "2480/2480 [==============================] - 450s 181ms/step - loss: 0.0663 - accuracy: 0.9771 - val_loss: 0.2491 - val_accuracy: 0.9105\n",
      "Epoch 9/25\n",
      "2480/2480 [==============================] - 450s 181ms/step - loss: 0.0603 - accuracy: 0.9791 - val_loss: 0.2269 - val_accuracy: 0.9338\n",
      "Epoch 10/25\n",
      "2480/2480 [==============================] - 450s 181ms/step - loss: 0.0536 - accuracy: 0.9815 - val_loss: 0.2440 - val_accuracy: 0.9313\n",
      "Epoch 11/25\n",
      "2480/2480 [==============================] - 450s 181ms/step - loss: 0.0533 - accuracy: 0.9823 - val_loss: 0.2034 - val_accuracy: 0.9389\n",
      "Epoch 12/25\n",
      "2480/2480 [==============================] - 450s 182ms/step - loss: 0.0477 - accuracy: 0.9839 - val_loss: 0.2780 - val_accuracy: 0.9265\n",
      "Epoch 13/25\n",
      "2480/2480 [==============================] - 450s 181ms/step - loss: 0.0470 - accuracy: 0.9841 - val_loss: 0.1706 - val_accuracy: 0.9447\n",
      "Epoch 14/25\n",
      "2480/2480 [==============================] - 451s 182ms/step - loss: 0.0389 - accuracy: 0.9867 - val_loss: 0.2230 - val_accuracy: 0.9415\n",
      "Epoch 15/25\n",
      "2480/2480 [==============================] - 451s 182ms/step - loss: 0.0399 - accuracy: 0.9860 - val_loss: 0.2431 - val_accuracy: 0.9342\n",
      "Epoch 16/25\n",
      "2480/2480 [==============================] - 451s 182ms/step - loss: 0.0347 - accuracy: 0.9884 - val_loss: 0.2428 - val_accuracy: 0.9415\n",
      "Epoch 17/25\n",
      "2480/2480 [==============================] - 451s 182ms/step - loss: 0.0340 - accuracy: 0.9878 - val_loss: 0.2756 - val_accuracy: 0.9291\n",
      "Epoch 18/25\n",
      "2480/2480 [==============================] - 450s 181ms/step - loss: 0.0301 - accuracy: 0.9896 - val_loss: 0.2792 - val_accuracy: 0.9382\n",
      "Epoch 19/25\n",
      "2480/2480 [==============================] - 450s 182ms/step - loss: 0.0273 - accuracy: 0.9908 - val_loss: 0.2605 - val_accuracy: 0.9273\n",
      "Epoch 20/25\n",
      "2480/2480 [==============================] - 451s 182ms/step - loss: 0.0255 - accuracy: 0.9914 - val_loss: 0.2879 - val_accuracy: 0.9444\n",
      "Epoch 21/25\n",
      "2480/2480 [==============================] - 450s 182ms/step - loss: 0.0230 - accuracy: 0.9920 - val_loss: 0.2487 - val_accuracy: 0.9364\n",
      "Epoch 22/25\n",
      "2480/2480 [==============================] - 450s 182ms/step - loss: 0.0218 - accuracy: 0.9918 - val_loss: 0.2918 - val_accuracy: 0.9291\n",
      "Epoch 23/25\n",
      "2480/2480 [==============================] - 450s 182ms/step - loss: 0.0217 - accuracy: 0.9926 - val_loss: 0.2651 - val_accuracy: 0.9400\n",
      "Epoch 24/25\n",
      "2480/2480 [==============================] - 450s 182ms/step - loss: 0.0216 - accuracy: 0.9923 - val_loss: 0.2665 - val_accuracy: 0.9465\n",
      "Epoch 25/25\n",
      "2480/2480 [==============================] - 450s 182ms/step - loss: 0.0171 - accuracy: 0.9942 - val_loss: 0.3325 - val_accuracy: 0.9375\n"
     ]
    }
   ],
   "source": [
    "history = model.fit(\n",
    "    train_generator,\n",
    "    epochs=epochs,\n",
    "    steps_per_epoch=steps // batch_size,\n",
    "    validation_data=validation_generator,\n",
    "    validation_steps=val_steps // batch_size\n",
    ")"
   ]
  },
  {
   "cell_type": "code",
   "execution_count": 5,
   "metadata": {},
   "outputs": [
    {
     "name": "stdout",
     "output_type": "stream",
     "text": [
      "275/275 [==============================] - 44s 161ms/step - loss: 0.3194 - accuracy: 0.9342\n",
      "275/275 [==============================] - 44s 161ms/step - loss: 0.3026 - accuracy: 0.9396\n",
      "275/275 [==============================] - 44s 161ms/step - loss: 0.3214 - accuracy: 0.9382\n",
      "275/275 [==============================] - 44s 161ms/step - loss: 0.3192 - accuracy: 0.9360\n",
      "275/275 [==============================] - 44s 161ms/step - loss: 0.3108 - accuracy: 0.9385\n",
      "275/275 [==============================] - 44s 161ms/step - loss: 0.3155 - accuracy: 0.9396\n",
      "275/275 [==============================] - 44s 161ms/step - loss: 0.2928 - accuracy: 0.9393\n",
      "275/275 [==============================] - 44s 161ms/step - loss: 0.3153 - accuracy: 0.9353\n",
      "275/275 [==============================] - 44s 161ms/step - loss: 0.3225 - accuracy: 0.9353\n",
      "275/275 [==============================] - 44s 161ms/step - loss: 0.3074 - accuracy: 0.9371\n",
      "Avg accuracy: 0.9373090922832489\n"
     ]
    }
   ],
   "source": [
    "accs = 0\n",
    "for i in range(10):\n",
    "    accuracy = model.evaluate(\n",
    "        validation_generator,\n",
    "        steps=val_steps // batch_size,\n",
    "    )\n",
    "    accs += accuracy[1]\n",
    "print(\"Avg accuracy: \" + str(accs/10))"
   ]
  },
  {
   "cell_type": "code",
   "execution_count": 14,
   "metadata": {},
   "outputs": [
    {
     "name": "stdout",
     "output_type": "stream",
     "text": [
      "INFO:tensorflow:Assets written to: D:\\.Downloads\\models\\largemodelv2\\assets\n"
     ]
    }
   ],
   "source": [
    "model.save('D:\\.Downloads\\models\\largemodelv2')"
   ]
  },
  {
   "cell_type": "code",
   "execution_count": 7,
   "metadata": {},
   "outputs": [],
   "source": [
    "base_model.save_weights('D:\\.Downloads\\models\\largemodelv4\\modelweights.h5')"
   ]
  },
  {
   "cell_type": "code",
   "execution_count": null,
   "metadata": {},
   "outputs": [],
   "source": []
  }
 ],
 "metadata": {
  "kernelspec": {
   "display_name": "Python 3",
   "language": "python",
   "name": "python3"
  },
  "language_info": {
   "codemirror_mode": {
    "name": "ipython",
    "version": 3
   },
   "file_extension": ".py",
   "mimetype": "text/x-python",
   "name": "python",
   "nbconvert_exporter": "python",
   "pygments_lexer": "ipython3",
   "version": "3.8.3"
  }
 },
 "nbformat": 4,
 "nbformat_minor": 4
}
