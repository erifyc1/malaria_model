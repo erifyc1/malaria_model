{
 "cells": [
  {
   "cell_type": "code",
   "execution_count": 1,
   "metadata": {},
   "outputs": [],
   "source": [
    "#import all libraries\n",
    "import tensorflow as tf\n",
    "from keras.layers import Conv2D, MaxPooling2D, Activation, Dropout, Flatten, Dense, Input, GlobalAveragePooling2D\n",
    "from keras.applications.inception_v3 import InceptionV3\n",
    "from keras.preprocessing.image import ImageDataGenerator\n",
    "from keras.models import Model, Sequential\n",
    "from keras.optimizers import RMSprop, Adam\n",
    "from keras import backend as K"
   ]
  },
  {
   "cell_type": "code",
   "execution_count": 2,
   "metadata": {},
   "outputs": [
    {
     "name": "stdout",
     "output_type": "stream",
     "text": [
      "Found 22048 images belonging to 2 classes.\n",
      "Found 5510 images belonging to 2 classes.\n"
     ]
    }
   ],
   "source": [
    "#get and split low_res data\n",
    "height = 299\n",
    "width = 299\n",
    "lr_batch_size = 4\n",
    "\n",
    "lr_train_datagen = ImageDataGenerator(\n",
    "    rescale=1./255,\n",
    "    horizontal_flip=True,\n",
    "    validation_split=0.2)\n",
    "\n",
    "lr_train_generator = lr_train_datagen.flow_from_directory(\n",
    "    'C:/Users/stolk/Desktop/Workspaces/ML/malaria/low_res/data',#'/content/drive/My Drive/malariaNN/high_res/data',\n",
    "    target_size=(height, width),\n",
    "    batch_size=lr_batch_size,\n",
    "    class_mode='binary',\n",
    "    subset='training')\n",
    "lr_validation_generator = lr_train_datagen.flow_from_directory(\n",
    "    'C:/Users/stolk/Desktop/Workspaces/ML/malaria/low_res/data',#'/content/drive/My Drive/malariaNN/high_res/data',\n",
    "    target_size=(height, width),\n",
    "    batch_size=lr_batch_size,\n",
    "    class_mode='binary',\n",
    "    subset='validation')\n",
    "\n",
    "lr_epochs = 5\n",
    "lr_steps = 22048\n",
    "lr_val_steps = 5510"
   ]
  },
  {
   "cell_type": "code",
   "execution_count": 3,
   "metadata": {},
   "outputs": [],
   "source": [
    "#build inceptionv3 algorithm and compile\n",
    "input_shape = None\n",
    "\n",
    "if K.image_data_format() == 'channels_first':\n",
    "    input_shape = (3, width, height)\n",
    "else:\n",
    "    input_shape = (width, height, 3)\n",
    "\n",
    "base_model = InceptionV3(weights=None, include_top=False, input_tensor=Input(shape=input_shape))\n",
    "\n",
    "out = base_model.output\n",
    "out = GlobalAveragePooling2D()(out)\n",
    "out = Dense(1024, activation='relu')(out)\n",
    "predictions = Dense(1, activation='sigmoid')(out)\n",
    "\n",
    "model = Model(inputs=base_model.input, outputs=predictions)\n",
    "\n",
    "def recall_m(y_true, y_pred):\n",
    "    true_positives = K.sum(K.round(K.clip(y_true * y_pred, 0, 1)))\n",
    "    possible_positives = K.sum(K.round(K.clip(y_true, 0, 1)))\n",
    "    recall = true_positives / (possible_positives + K.epsilon())\n",
    "    return recall\n",
    "\n",
    "def precision_m(y_true, y_pred):\n",
    "    true_positives = K.sum(K.round(K.clip(y_true * y_pred, 0, 1)))\n",
    "    predicted_positives = K.sum(K.round(K.clip(y_pred, 0, 1)))\n",
    "    precision = true_positives / (predicted_positives + K.epsilon())\n",
    "    return precision\n",
    "\n",
    "def f1_m(y_true, y_pred):\n",
    "    precision = precision_m(y_true, y_pred)\n",
    "    recall = recall_m(y_true, y_pred)\n",
    "    return 2*((precision*recall)/(precision+recall+K.epsilon()))\n",
    "    \n",
    "\n",
    "\n",
    "\n",
    "LR = 0.0001\n",
    "RMS = Adam(lr=LR)\n",
    "model.compile(optimizer=RMS, loss='binary_crossentropy', metrics=['accuracy',f1_m,precision_m, recall_m])"
   ]
  },
  {
   "cell_type": "code",
   "execution_count": 4,
   "metadata": {},
   "outputs": [
    {
     "name": "stdout",
     "output_type": "stream",
     "text": [
      "Epoch 1/15\n",
      "5512/5512 [==============================] - 613s 103ms/step - loss: 0.3579 - accuracy: 0.8446 - f1_m: 0.7851 - precision_m: 0.8029 - recall_m: 0.8129 - val_loss: 0.2210 - val_accuracy: 0.9308 - val_f1_m: 0.8660 - val_precision_m: 0.8482 - val_recall_m: 0.9078\n",
      "Epoch 2/15\n",
      "5512/5512 [==============================] - 536s 97ms/step - loss: 0.1853 - accuracy: 0.9442 - f1_m: 0.8850 - precision_m: 0.8919 - recall_m: 0.8973 - val_loss: 0.3133 - val_accuracy: 0.9119 - val_f1_m: 0.8621 - val_precision_m: 0.8547 - val_recall_m: 0.8992\n",
      "Epoch 3/15\n",
      "5512/5512 [==============================] - 539s 98ms/step - loss: 0.1656 - accuracy: 0.9491 - f1_m: 0.8844 - precision_m: 0.8897 - recall_m: 0.8976 - val_loss: 0.2296 - val_accuracy: 0.9372 - val_f1_m: 0.8725 - val_precision_m: 0.8652 - val_recall_m: 0.9015\n",
      "Epoch 4/15\n",
      "5512/5512 [==============================] - 541s 98ms/step - loss: 0.1551 - accuracy: 0.9542 - f1_m: 0.8968 - precision_m: 0.9012 - recall_m: 0.9080 - val_loss: 0.1488 - val_accuracy: 0.9483 - val_f1_m: 0.8819 - val_precision_m: 0.8840 - val_recall_m: 0.8977\n",
      "Epoch 5/15\n",
      "5512/5512 [==============================] - 537s 97ms/step - loss: 0.1401 - accuracy: 0.9588 - f1_m: 0.8925 - precision_m: 0.8967 - recall_m: 0.9025 - val_loss: 0.1576 - val_accuracy: 0.9464 - val_f1_m: 0.8783 - val_precision_m: 0.8830 - val_recall_m: 0.8917\n",
      "Epoch 6/15\n",
      "5512/5512 [==============================] - 542s 98ms/step - loss: 0.1417 - accuracy: 0.9543 - f1_m: 0.8981 - precision_m: 0.9029 - recall_m: 0.9099 - val_loss: 0.1732 - val_accuracy: 0.9434 - val_f1_m: 0.8761 - val_precision_m: 0.8825 - val_recall_m: 0.8887\n",
      "Epoch 7/15\n",
      "5512/5512 [==============================] - 554s 100ms/step - loss: 0.1277 - accuracy: 0.9605 - f1_m: 0.9039 - precision_m: 0.9055 - recall_m: 0.9162 - val_loss: 0.1898 - val_accuracy: 0.9330 - val_f1_m: 0.8559 - val_precision_m: 0.8744 - val_recall_m: 0.8579\n",
      "Epoch 8/15\n",
      "5512/5512 [==============================] - 559s 101ms/step - loss: 0.1253 - accuracy: 0.9601 - f1_m: 0.8934 - precision_m: 0.8957 - recall_m: 0.9057 - val_loss: 0.1365 - val_accuracy: 0.9521 - val_f1_m: 0.8860 - val_precision_m: 0.8942 - val_recall_m: 0.8955\n",
      "Epoch 9/15\n",
      "5512/5512 [==============================] - 570s 103ms/step - loss: 0.1203 - accuracy: 0.9621 - f1_m: 0.9015 - precision_m: 0.9042 - recall_m: 0.9121 - val_loss: 0.1681 - val_accuracy: 0.9493 - val_f1_m: 0.8849 - val_precision_m: 0.8878 - val_recall_m: 0.9000\n",
      "Epoch 10/15\n",
      "5512/5512 [==============================] - 560s 102ms/step - loss: 0.1175 - accuracy: 0.9621 - f1_m: 0.9031 - precision_m: 0.9044 - recall_m: 0.9148 - val_loss: 0.1419 - val_accuracy: 0.9523 - val_f1_m: 0.8927 - val_precision_m: 0.8896 - val_recall_m: 0.9118\n",
      "Epoch 11/15\n",
      "5512/5512 [==============================] - 562s 102ms/step - loss: 0.1134 - accuracy: 0.9626 - f1_m: 0.8958 - precision_m: 0.8965 - recall_m: 0.9079 - val_loss: 0.2461 - val_accuracy: 0.9250 - val_f1_m: 0.8637 - val_precision_m: 0.8493 - val_recall_m: 0.9029\n",
      "Epoch 12/15\n",
      "5512/5512 [==============================] - 587s 106ms/step - loss: 0.1105 - accuracy: 0.9647 - f1_m: 0.9029 - precision_m: 0.9043 - recall_m: 0.9135 - val_loss: 0.1420 - val_accuracy: 0.9524 - val_f1_m: 0.8841 - val_precision_m: 0.8849 - val_recall_m: 0.8995\n",
      "Epoch 13/15\n",
      "5512/5512 [==============================] - 630s 114ms/step - loss: 0.1114 - accuracy: 0.9638 - f1_m: 0.9043 - precision_m: 0.9050 - recall_m: 0.9163 - val_loss: 0.1239 - val_accuracy: 0.9537 - val_f1_m: 0.8910 - val_precision_m: 0.8865 - val_recall_m: 0.9121\n",
      "Epoch 14/15\n",
      "5512/5512 [==============================] - 595s 108ms/step - loss: 0.1157 - accuracy: 0.9605 - f1_m: 0.9011 - precision_m: 0.9020 - recall_m: 0.9140 - val_loss: 0.1466 - val_accuracy: 0.9524 - val_f1_m: 0.8932 - val_precision_m: 0.8928 - val_recall_m: 0.9096\n",
      "Epoch 15/15\n",
      "5512/5512 [==============================] - 597s 108ms/step - loss: 0.1107 - accuracy: 0.9648 - f1_m: 0.9016 - precision_m: 0.9004 - recall_m: 0.9147 - val_loss: 0.1433 - val_accuracy: 0.9521 - val_f1_m: 0.8884 - val_precision_m: 0.8819 - val_recall_m: 0.9113\n"
     ]
    }
   ],
   "source": [
    "#train to fit low_res data\n",
    "history = model.fit(\n",
    "    lr_train_generator,\n",
    "    epochs=lr_epochs,\n",
    "    steps_per_epoch=lr_steps // lr_batch_size,\n",
    "    validation_data=lr_validation_generator,\n",
    "    validation_steps=lr_val_steps // lr_batch_size\n",
    ")"
   ]
  },
  {
   "cell_type": "code",
   "execution_count": null,
   "metadata": {},
   "outputs": [],
   "source": []
  },
  {
   "cell_type": "code",
   "execution_count": 12,
   "metadata": {},
   "outputs": [],
   "source": [
    "model_location = 'D:\\.Downloads\\models\\\\allinone\\modelweights.h5'\n",
    "base_model.save_weights(model_location)"
   ]
  },
  {
   "cell_type": "code",
   "execution_count": 5,
   "metadata": {},
   "outputs": [
    {
     "name": "stdout",
     "output_type": "stream",
     "text": [
      "1377/1377 [==============================] - 44s 32ms/step - loss: 0.1438 - accuracy: 0.9532 - f1_m: 0.8882 - precision_m: 0.8830 - recall_m: 0.9106\n",
      "loss: 0.14378908276557922\n",
      "acc: 0.9531590342521667\n",
      "f1: 0.8882006406784058\n",
      "pre: 0.8830186128616333\n",
      "rec: 0.9105542898178101\n"
     ]
    }
   ],
   "source": [
    "#check accuracy\n",
    "results = model.evaluate(\n",
    "    lr_validation_generator,\n",
    "    steps=lr_val_steps // lr_batch_size,\n",
    ")\n",
    "\n",
    "print(\"loss: \" + str(results[0]))\n",
    "print(\"acc: \" + str(results[1]))\n",
    "print(\"f1: \" + str(results[2]))\n",
    "print(\"pre: \" + str(results[3]))\n",
    "print(\"rec: \" + str(results[4]))"
   ]
  },
  {
   "cell_type": "code",
   "execution_count": null,
   "metadata": {},
   "outputs": [],
   "source": []
  }
 ],
 "metadata": {
  "kernelspec": {
   "display_name": "Python 3",
   "language": "python",
   "name": "python3"
  },
  "language_info": {
   "codemirror_mode": {
    "name": "ipython",
    "version": 3
   },
   "file_extension": ".py",
   "mimetype": "text/x-python",
   "name": "python",
   "nbconvert_exporter": "python",
   "pygments_lexer": "ipython3",
   "version": "3.8.5"
  }
 },
 "nbformat": 4,
 "nbformat_minor": 4
}
