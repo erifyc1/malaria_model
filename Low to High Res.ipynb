{
 "cells": [
  {
   "cell_type": "code",
   "execution_count": 6,
   "metadata": {},
   "outputs": [],
   "source": [
    "import tensorflow as tf\n",
    "from keras.layers import Conv2D, MaxPooling2D, Activation, Dropout, Flatten, Dense, Input, GlobalAveragePooling2D\n",
    "from keras.applications.inception_v3 import InceptionV3\n",
    "from keras.preprocessing.image import ImageDataGenerator\n",
    "from keras.models import Model, Sequential\n",
    "from keras.optimizers import RMSprop, Adam\n",
    "from keras import backend as K"
   ]
  },
  {
   "cell_type": "code",
   "execution_count": 7,
   "metadata": {},
   "outputs": [
    {
     "name": "stdout",
     "output_type": "stream",
     "text": [
      "Found 170 images belonging to 4 classes.\n",
      "Found 40 images belonging to 4 classes.\n"
     ]
    }
   ],
   "source": [
    "height = 299\n",
    "width = 299\n",
    "batch_size = 2\n",
    "\n",
    "train_datagen = ImageDataGenerator(rescale=1./255,\n",
    "    shear_range=0.2,\n",
    "    zoom_range=0.2,\n",
    "    horizontal_flip=False,\n",
    "    validation_split=0.2)\n",
    "\n",
    "train_generator = train_datagen.flow_from_directory(\n",
    "    'D:\\.Downloads\\high_res\\data',#'/content/drive/My Drive/malariaNN/high_res/data',\n",
    "    target_size=(height, width),\n",
    "    batch_size=batch_size,\n",
    "    class_mode='categorical',\n",
    "    subset='training')\n",
    "validation_generator = train_datagen.flow_from_directory(\n",
    "    'D:\\.Downloads\\high_res\\data',#'/content/drive/My Drive/malariaNN/high_res/data',\n",
    "    target_size=(height, width),\n",
    "    batch_size=batch_size,\n",
    "    class_mode='categorical',\n",
    "    subset='validation')\n",
    "\n",
    "epochs = 20\n",
    "steps = 170\n",
    "val_steps = 40"
   ]
  },
  {
   "cell_type": "code",
   "execution_count": 10,
   "metadata": {},
   "outputs": [],
   "source": [
    "input_shape = None\n",
    "\n",
    "if K.image_data_format() == 'channels_first':\n",
    "    input_shape = (3, width, height)\n",
    "else:\n",
    "    input_shape = (width, height, 3)\n",
    "\n",
    "base_model = InceptionV3(weights='D:\\.Downloads\\models\\largemodelv4\\modelweights.h5', include_top=False, input_tensor=Input(shape=input_shape))\n",
    "\n",
    "out = base_model.output\n",
    "out = GlobalAveragePooling2D()(out)\n",
    "out = Dense(1024, activation='relu')(out)\n",
    "predictions = Dense(4, activation='softmax')(out)\n",
    "\n",
    "model = Model(inputs=base_model.input, outputs=predictions)\n",
    "\n",
    "# freeze all weights in imagenet trained base model, but not the extra buffer layer and output layer\n",
    "for layer in base_model.layers:\n",
    "    layer.trainable = False\n",
    "\n",
    "LR = 0.007\n",
    "RMS = Adam(lr=LR)\n",
    "model.compile(optimizer=RMS, loss='categorical_crossentropy', metrics=['accuracy'])"
   ]
  },
  {
   "cell_type": "code",
   "execution_count": 11,
   "metadata": {},
   "outputs": [
    {
     "name": "stdout",
     "output_type": "stream",
     "text": [
      "Epoch 1/20\n",
      "85/85 [==============================] - 26s 309ms/step - loss: 1.6543 - accuracy: 0.4882 - val_loss: 1.3845 - val_accuracy: 0.4500\n",
      "Epoch 2/20\n",
      "85/85 [==============================] - 23s 268ms/step - loss: 1.2106 - accuracy: 0.5529 - val_loss: 1.3735 - val_accuracy: 0.4250\n",
      "Epoch 3/20\n",
      "85/85 [==============================] - 19s 220ms/step - loss: 1.1742 - accuracy: 0.5294 - val_loss: 1.5570 - val_accuracy: 0.2000\n",
      "Epoch 4/20\n",
      "85/85 [==============================] - 20s 236ms/step - loss: 1.0944 - accuracy: 0.5294 - val_loss: 1.3804 - val_accuracy: 0.3000\n",
      "Epoch 5/20\n",
      "85/85 [==============================] - 18s 212ms/step - loss: 1.1924 - accuracy: 0.5471 - val_loss: 1.4935 - val_accuracy: 0.2750\n",
      "Epoch 6/20\n",
      "85/85 [==============================] - 18s 216ms/step - loss: 1.0897 - accuracy: 0.5529 - val_loss: 1.4229 - val_accuracy: 0.3250\n",
      "Epoch 7/20\n",
      "85/85 [==============================] - 18s 212ms/step - loss: 1.0145 - accuracy: 0.6176 - val_loss: 1.3212 - val_accuracy: 0.5000\n",
      "Epoch 8/20\n",
      "85/85 [==============================] - 18s 212ms/step - loss: 1.0021 - accuracy: 0.6000 - val_loss: 1.4618 - val_accuracy: 0.4500\n",
      "Epoch 9/20\n",
      "85/85 [==============================] - 18s 213ms/step - loss: 1.0592 - accuracy: 0.5647 - val_loss: 1.4467 - val_accuracy: 0.3000\n",
      "Epoch 10/20\n",
      "85/85 [==============================] - 18s 213ms/step - loss: 1.0084 - accuracy: 0.5647 - val_loss: 1.6493 - val_accuracy: 0.4250\n",
      "Epoch 11/20\n",
      "85/85 [==============================] - 19s 221ms/step - loss: 0.9753 - accuracy: 0.5824 - val_loss: 1.7481 - val_accuracy: 0.3250\n",
      "Epoch 12/20\n",
      "85/85 [==============================] - 18s 218ms/step - loss: 1.1203 - accuracy: 0.5882 - val_loss: 1.3258 - val_accuracy: 0.5000\n",
      "Epoch 13/20\n",
      "85/85 [==============================] - 18s 214ms/step - loss: 1.0252 - accuracy: 0.5765 - val_loss: 1.2606 - val_accuracy: 0.4500\n",
      "Epoch 14/20\n",
      "85/85 [==============================] - 19s 224ms/step - loss: 0.9499 - accuracy: 0.5941 - val_loss: 1.1957 - val_accuracy: 0.5000\n",
      "Epoch 15/20\n",
      "85/85 [==============================] - 19s 223ms/step - loss: 1.0256 - accuracy: 0.5588 - val_loss: 1.3771 - val_accuracy: 0.5000\n",
      "Epoch 16/20\n",
      "85/85 [==============================] - 19s 221ms/step - loss: 1.0092 - accuracy: 0.5647 - val_loss: 1.3124 - val_accuracy: 0.3000\n",
      "Epoch 17/20\n",
      "85/85 [==============================] - 19s 223ms/step - loss: 0.9871 - accuracy: 0.6294 - val_loss: 1.1488 - val_accuracy: 0.5250\n",
      "Epoch 18/20\n",
      "85/85 [==============================] - 19s 220ms/step - loss: 0.9271 - accuracy: 0.6118 - val_loss: 1.2422 - val_accuracy: 0.4250\n",
      "Epoch 19/20\n",
      "85/85 [==============================] - 18s 210ms/step - loss: 0.9102 - accuracy: 0.6000 - val_loss: 1.3010 - val_accuracy: 0.5000\n",
      "Epoch 20/20\n",
      "85/85 [==============================] - 18s 212ms/step - loss: 0.8777 - accuracy: 0.6412 - val_loss: 1.4029 - val_accuracy: 0.4750\n"
     ]
    }
   ],
   "source": [
    "history = model.fit(\n",
    "    train_generator,\n",
    "    epochs=epochs,\n",
    "    steps_per_epoch=steps // batch_size,\n",
    "    validation_data=validation_generator,\n",
    "    validation_steps=val_steps // batch_size\n",
    ")"
   ]
  },
  {
   "cell_type": "code",
   "execution_count": 12,
   "metadata": {},
   "outputs": [
    {
     "name": "stdout",
     "output_type": "stream",
     "text": [
      "20/20 [==============================] - 4s 178ms/step - loss: 1.4003 - accuracy: 0.5250\n",
      "20/20 [==============================] - 3s 173ms/step - loss: 1.4908 - accuracy: 0.4750\n",
      "20/20 [==============================] - 4s 177ms/step - loss: 1.3157 - accuracy: 0.4750\n",
      "20/20 [==============================] - 3s 174ms/step - loss: 1.4447 - accuracy: 0.5000\n",
      "20/20 [==============================] - 3s 169ms/step - loss: 1.3816 - accuracy: 0.5250\n",
      "20/20 [==============================] - 3s 171ms/step - loss: 1.4964 - accuracy: 0.4750\n",
      "20/20 [==============================] - 3s 172ms/step - loss: 1.2627 - accuracy: 0.5250\n",
      "20/20 [==============================] - 3s 164ms/step - loss: 1.4800 - accuracy: 0.5000\n",
      "20/20 [==============================] - 3s 165ms/step - loss: 1.4232 - accuracy: 0.5000\n",
      "20/20 [==============================] - 3s 163ms/step - loss: 1.2613 - accuracy: 0.5750\n",
      "Avg accuracy: 0.5074999898672103\n"
     ]
    }
   ],
   "source": [
    "accs = 0\n",
    "for i in range(10):\n",
    "    accuracy = model.evaluate(\n",
    "        validation_generator,\n",
    "        steps=val_steps // batch_size,\n",
    "    )\n",
    "    accs += accuracy[1]\n",
    "print(\"Avg accuracy: \" + str(accs/10))"
   ]
  },
  {
   "cell_type": "code",
   "execution_count": null,
   "metadata": {},
   "outputs": [],
   "source": []
  }
 ],
 "metadata": {
  "kernelspec": {
   "display_name": "Python 3",
   "language": "python",
   "name": "python3"
  },
  "language_info": {
   "codemirror_mode": {
    "name": "ipython",
    "version": 3
   },
   "file_extension": ".py",
   "mimetype": "text/x-python",
   "name": "python",
   "nbconvert_exporter": "python",
   "pygments_lexer": "ipython3",
   "version": "3.8.5"
  }
 },
 "nbformat": 4,
 "nbformat_minor": 4
}
