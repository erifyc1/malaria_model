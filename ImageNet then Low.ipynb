{
 "cells": [
  {
   "cell_type": "code",
   "execution_count": 1,
   "metadata": {},
   "outputs": [],
   "source": [
    "#import all libraries\n",
    "import tensorflow as tf\n",
    "from keras.layers import Conv2D, MaxPooling2D, Activation, Dropout, Flatten, Dense, Input, GlobalAveragePooling2D\n",
    "from keras.applications.inception_v3 import InceptionV3\n",
    "from keras.preprocessing.image import ImageDataGenerator\n",
    "from keras.models import Model, Sequential\n",
    "from keras.optimizers import RMSprop, Adam\n",
    "from keras import backend as K"
   ]
  },
  {
   "cell_type": "code",
   "execution_count": 2,
   "metadata": {},
   "outputs": [
    {
     "name": "stdout",
     "output_type": "stream",
     "text": [
      "Found 22048 images belonging to 2 classes.\n",
      "Found 5510 images belonging to 2 classes.\n"
     ]
    }
   ],
   "source": [
    "#get and split low_res data\n",
    "height = 299\n",
    "width = 299\n",
    "lr_batch_size = 4\n",
    "\n",
    "lr_train_datagen = ImageDataGenerator(\n",
    "    rescale=1./255,\n",
    "    horizontal_flip=True,\n",
    "    validation_split=0.2)\n",
    "\n",
    "lr_train_generator = lr_train_datagen.flow_from_directory(\n",
    "    'C:/Users/stolk/Desktop/Workspaces/ML/malaria/low_res/data',#'/content/drive/My Drive/malariaNN/high_res/data',\n",
    "    target_size=(height, width),\n",
    "    batch_size=lr_batch_size,\n",
    "    class_mode='binary',\n",
    "    subset='training')\n",
    "lr_validation_generator = lr_train_datagen.flow_from_directory(\n",
    "    'C:/Users/stolk/Desktop/Workspaces/ML/malaria/low_res/data',#'/content/drive/My Drive/malariaNN/high_res/data',\n",
    "    target_size=(height, width),\n",
    "    batch_size=lr_batch_size,\n",
    "    class_mode='binary',\n",
    "    subset='validation')\n",
    "\n",
    "lr_epochs = 5\n",
    "lr_steps = 22048\n",
    "lr_val_steps = 5510"
   ]
  },
  {
   "cell_type": "code",
   "execution_count": 3,
   "metadata": {},
   "outputs": [],
   "source": [
    "#build inceptionv3 algorithm and compile\n",
    "input_shape = None\n",
    "\n",
    "if K.image_data_format() == 'channels_first':\n",
    "    input_shape = (3, width, height)\n",
    "else:\n",
    "    input_shape = (width, height, 3)\n",
    "\n",
    "base_model = InceptionV3(weights='imagenet', include_top=False, input_tensor=Input(shape=input_shape))\n",
    "\n",
    "out = base_model.output\n",
    "out = GlobalAveragePooling2D()(out)\n",
    "out = Dense(1024, activation='relu')(out)\n",
    "predictions = Dense(1, activation='sigmoid')(out)\n",
    "\n",
    "model = Model(inputs=base_model.input, outputs=predictions)\n",
    "\n",
    "def recall_m(y_true, y_pred):\n",
    "    true_positives = K.sum(K.round(K.clip(y_true * y_pred, 0, 1)))\n",
    "    possible_positives = K.sum(K.round(K.clip(y_true, 0, 1)))\n",
    "    recall = true_positives / (possible_positives + K.epsilon())\n",
    "    return recall\n",
    "\n",
    "def precision_m(y_true, y_pred):\n",
    "    true_positives = K.sum(K.round(K.clip(y_true * y_pred, 0, 1)))\n",
    "    predicted_positives = K.sum(K.round(K.clip(y_pred, 0, 1)))\n",
    "    precision = true_positives / (predicted_positives + K.epsilon())\n",
    "    return precision\n",
    "\n",
    "def f1_m(y_true, y_pred):\n",
    "    precision = precision_m(y_true, y_pred)\n",
    "    recall = recall_m(y_true, y_pred)\n",
    "    return 2*((precision*recall)/(precision+recall+K.epsilon()))\n",
    "    \n",
    "\n",
    "\n",
    "\n",
    "LR = 0.0001\n",
    "RMS = Adam(lr=LR)\n",
    "model.compile(optimizer=RMS, loss='binary_crossentropy', metrics=['accuracy',f1_m,precision_m, recall_m])"
   ]
  },
  {
   "cell_type": "code",
   "execution_count": 4,
   "metadata": {},
   "outputs": [
    {
     "name": "stdout",
     "output_type": "stream",
     "text": [
      "Epoch 1/15\n",
      "5512/5512 [==============================] - 591s 99ms/step - loss: 0.2181 - accuracy: 0.9318 - f1_m: 0.8812 - precision_m: 0.8845 - recall_m: 0.9012 - val_loss: 0.1535 - val_accuracy: 0.9550 - val_f1_m: 0.8991 - val_precision_m: 0.8959 - val_recall_m: 0.9178\n",
      "Epoch 2/15\n",
      "5512/5512 [==============================] - 532s 96ms/step - loss: 0.1389 - accuracy: 0.9583 - f1_m: 0.9060 - precision_m: 0.9088 - recall_m: 0.9172 - val_loss: 0.1938 - val_accuracy: 0.9497 - val_f1_m: 0.8918 - val_precision_m: 0.8862 - val_recall_m: 0.9147\n",
      "Epoch 3/15\n",
      "5512/5512 [==============================] - 538s 98ms/step - loss: 0.1294 - accuracy: 0.9603 - f1_m: 0.8902 - precision_m: 0.8938 - recall_m: 0.8996 - val_loss: 0.1714 - val_accuracy: 0.9383 - val_f1_m: 0.8801 - val_precision_m: 0.8584 - val_recall_m: 0.9239\n",
      "Epoch 4/15\n",
      "5512/5512 [==============================] - 532s 96ms/step - loss: 0.1042 - accuracy: 0.9655 - f1_m: 0.9037 - precision_m: 0.9024 - recall_m: 0.9172 - val_loss: 0.2541 - val_accuracy: 0.9248 - val_f1_m: 0.8659 - val_precision_m: 0.8368 - val_recall_m: 0.9224\n",
      "Epoch 5/15\n",
      "5512/5512 [==============================] - 539s 98ms/step - loss: 0.0982 - accuracy: 0.9697 - f1_m: 0.9071 - precision_m: 0.9080 - recall_m: 0.9166 - val_loss: 0.1360 - val_accuracy: 0.9566 - val_f1_m: 0.8952 - val_precision_m: 0.8837 - val_recall_m: 0.9216\n",
      "Epoch 6/15\n",
      "5512/5512 [==============================] - 534s 97ms/step - loss: 0.1014 - accuracy: 0.9662 - f1_m: 0.9090 - precision_m: 0.9108 - recall_m: 0.9199 - val_loss: 0.1381 - val_accuracy: 0.9544 - val_f1_m: 0.8970 - val_precision_m: 0.8873 - val_recall_m: 0.9231\n",
      "Epoch 7/15\n",
      "5512/5512 [==============================] - 542s 98ms/step - loss: 0.0912 - accuracy: 0.9695 - f1_m: 0.9127 - precision_m: 0.9132 - recall_m: 0.9234 - val_loss: 0.2245 - val_accuracy: 0.9330 - val_f1_m: 0.8872 - val_precision_m: 0.8595 - val_recall_m: 0.9383\n",
      "Epoch 8/15\n",
      "5512/5512 [==============================] - 543s 98ms/step - loss: 0.0819 - accuracy: 0.9724 - f1_m: 0.9150 - precision_m: 0.9154 - recall_m: 0.9247 - val_loss: 0.1457 - val_accuracy: 0.9506 - val_f1_m: 0.8846 - val_precision_m: 0.8732 - val_recall_m: 0.9142\n",
      "Epoch 9/15\n",
      "5512/5512 [==============================] - 545s 99ms/step - loss: 0.0850 - accuracy: 0.9716 - f1_m: 0.9033 - precision_m: 0.9050 - recall_m: 0.9117 - val_loss: 0.1472 - val_accuracy: 0.9539 - val_f1_m: 0.8992 - val_precision_m: 0.8885 - val_recall_m: 0.9270\n",
      "Epoch 10/15\n",
      "5512/5512 [==============================] - 543s 99ms/step - loss: 0.0769 - accuracy: 0.9752 - f1_m: 0.9068 - precision_m: 0.9075 - recall_m: 0.9146 - val_loss: 0.1474 - val_accuracy: 0.9472 - val_f1_m: 0.8926 - val_precision_m: 0.8804 - val_recall_m: 0.9236\n",
      "Epoch 11/15\n",
      "5512/5512 [==============================] - 554s 100ms/step - loss: 0.0718 - accuracy: 0.9754 - f1_m: 0.9023 - precision_m: 0.9040 - recall_m: 0.9089 - val_loss: 0.1692 - val_accuracy: 0.9470 - val_f1_m: 0.8904 - val_precision_m: 0.8745 - val_recall_m: 0.9273\n",
      "Epoch 12/15\n",
      "5512/5512 [==============================] - 541s 98ms/step - loss: 0.0686 - accuracy: 0.9773 - f1_m: 0.9176 - precision_m: 0.9186 - recall_m: 0.9252 - val_loss: 0.1107 - val_accuracy: 0.9586 - val_f1_m: 0.8882 - val_precision_m: 0.8985 - val_recall_m: 0.8928\n",
      "Epoch 13/15\n",
      "5512/5512 [==============================] - 531s 96ms/step - loss: 0.0623 - accuracy: 0.9793 - f1_m: 0.9177 - precision_m: 0.9199 - recall_m: 0.9232 - val_loss: 0.1665 - val_accuracy: 0.9444 - val_f1_m: 0.8850 - val_precision_m: 0.8785 - val_recall_m: 0.9122\n",
      "Epoch 14/15\n",
      "5512/5512 [==============================] - 525s 95ms/step - loss: 0.0618 - accuracy: 0.9804 - f1_m: 0.9143 - precision_m: 0.9159 - recall_m: 0.9193 - val_loss: 0.1551 - val_accuracy: 0.9528 - val_f1_m: 0.8991 - val_precision_m: 0.8880 - val_recall_m: 0.9267\n",
      "Epoch 15/15\n",
      "5512/5512 [==============================] - 525s 95ms/step - loss: 0.0602 - accuracy: 0.9787 - f1_m: 0.9186 - precision_m: 0.9194 - recall_m: 0.9257 - val_loss: 0.2012 - val_accuracy: 0.9392 - val_f1_m: 0.8853 - val_precision_m: 0.8643 - val_recall_m: 0.9271\n"
     ]
    }
   ],
   "source": [
    "#train to fit low_res data\n",
    "history = model.fit(\n",
    "    lr_train_generator,\n",
    "    epochs=lr_epochs,\n",
    "    steps_per_epoch=lr_steps // lr_batch_size,\n",
    "    validation_data=lr_validation_generator,\n",
    "    validation_steps=lr_val_steps // lr_batch_size\n",
    ")"
   ]
  },
  {
   "cell_type": "code",
   "execution_count": null,
   "metadata": {},
   "outputs": [],
   "source": []
  },
  {
   "cell_type": "code",
   "execution_count": 12,
   "metadata": {},
   "outputs": [],
   "source": [
    "model_location = 'D:\\.Downloads\\models\\\\allinone\\modelweights.h5'\n",
    "base_model.save_weights(model_location)"
   ]
  },
  {
   "cell_type": "code",
   "execution_count": 8,
   "metadata": {},
   "outputs": [
    {
     "name": "stdout",
     "output_type": "stream",
     "text": [
      "1377/1377 [==============================] - 39s 28ms/step - loss: 0.2026 - accuracy: 0.9401 - f1_m: 0.8785 - precision_m: 0.8579 - recall_m: 0.9207\n",
      "loss: 0.20258259773254395\n",
      "acc: 0.9400871396064758\n",
      "f1: 0.8785247206687927\n",
      "pre: 0.8579038381576538\n",
      "rec: 0.9207212924957275\n"
     ]
    }
   ],
   "source": [
    "#check accuracy\n",
    "results = model.evaluate(\n",
    "    lr_validation_generator,\n",
    "    steps=lr_val_steps // lr_batch_size,\n",
    ")\n",
    "\n",
    "print(\"loss: \" + str(results[0]))\n",
    "print(\"acc: \" + str(results[1]))\n",
    "print(\"f1: \" + str(results[2]))\n",
    "print(\"pre: \" + str(results[3]))\n",
    "print(\"rec: \" + str(results[4]))"
   ]
  },
  {
   "cell_type": "code",
   "execution_count": null,
   "metadata": {},
   "outputs": [],
   "source": []
  }
 ],
 "metadata": {
  "kernelspec": {
   "display_name": "Python 3",
   "language": "python",
   "name": "python3"
  },
  "language_info": {
   "codemirror_mode": {
    "name": "ipython",
    "version": 3
   },
   "file_extension": ".py",
   "mimetype": "text/x-python",
   "name": "python",
   "nbconvert_exporter": "python",
   "pygments_lexer": "ipython3",
   "version": "3.8.5"
  }
 },
 "nbformat": 4,
 "nbformat_minor": 4
}
